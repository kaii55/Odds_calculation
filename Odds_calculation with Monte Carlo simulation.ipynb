{
 "cells": [
  {
   "cell_type": "code",
   "execution_count": 1,
   "id": "d14e7283",
   "metadata": {},
   "outputs": [],
   "source": [
    "import pandas as pd\n",
    "import numpy as np"
   ]
  },
  {
   "cell_type": "code",
   "execution_count": 2,
   "id": "701e2a70",
   "metadata": {},
   "outputs": [],
   "source": [
    "def roll_dice():\n",
    "    #This will generate a random number between 1 (inclusive) and 7 (exclusive)\n",
    "    player_a = np.random.randint(1, 7)\n",
    "    player_b = np.random.randint(1, 7)\n",
    "    \n",
    "    if player_a > player_b:\n",
    "        print(f\"Player A wins and the number {player_a} > {player_b}\")\n",
    "    elif player_a == player_b:\n",
    "        print(f\"draw because {player_a} = {player_b}\")\n",
    "    else:\n",
    "        print(f\"Player B wins and the number {player_b} > {player_a}\")"
   ]
  },
  {
   "cell_type": "code",
   "execution_count": 3,
   "id": "aa5d51a1",
   "metadata": {},
   "outputs": [
    {
     "name": "stdout",
     "output_type": "stream",
     "text": [
      "Player B wins and the number 5 > 3\n",
      "Player A wins and the number 6 > 3\n",
      "Player B wins and the number 2 > 1\n",
      "Player A wins and the number 3 > 2\n",
      "Player A wins and the number 3 > 1\n",
      "draw because 6 = 6\n",
      "Player B wins and the number 6 > 5\n",
      "Player B wins and the number 2 > 1\n",
      "Player B wins and the number 6 > 2\n",
      "Player A wins and the number 4 > 1\n"
     ]
    }
   ],
   "source": [
    "for i in range(0, 10):\n",
    "    roll_dice()   "
   ]
  },
  {
   "cell_type": "code",
   "execution_count": 4,
   "id": "1242abbf",
   "metadata": {},
   "outputs": [],
   "source": [
    "def roll_dice_win():\n",
    "    #This will generate a random number between 1 (inclusive) and 7 (exclusive)\n",
    "    player_a = np.random.randint(1, 7)\n",
    "    player_b = np.random.randint(1, 7)\n",
    "    \n",
    "    return player_a, player_b"
   ]
  },
  {
   "cell_type": "code",
   "execution_count": 5,
   "id": "46d37fe5",
   "metadata": {},
   "outputs": [
    {
     "name": "stdout",
     "output_type": "stream",
     "text": [
      "Player A won 4105 times and 41.05% of the games\n",
      "Draw happens 1602 times and 16.02% of the games\n",
      "Player B won 4293 times and 42.93% of the games\n"
     ]
    }
   ],
   "source": [
    "player_a_win = 0\n",
    "draw = 0\n",
    "player_b_win = 0\n",
    "numer_of_games = 10000\n",
    "\n",
    "for i in range(0, numer_of_games):\n",
    "    a, b = roll_dice_win()\n",
    "    \n",
    "    if a > b:\n",
    "        player_a_win = player_a_win + 1\n",
    "\n",
    "    elif a == b:\n",
    "        draw = draw +  1\n",
    "        \n",
    "    elif a < b:\n",
    "        player_b_win = player_b_win + 1\n",
    "              \n",
    "print(f\"Player A won {player_a_win} times and {(player_a_win/ numer_of_games)*100}% of the games\")\n",
    "print(f\"Draw happens {draw} times and {(draw/ numer_of_games)*100}% of the games\")\n",
    "print(f\"Player B won {player_b_win} times and {(player_b_win/ numer_of_games)*100}% of the games\")\n",
    "    "
   ]
  },
  {
   "cell_type": "code",
   "execution_count": 6,
   "id": "05e5f638",
   "metadata": {},
   "outputs": [
    {
     "data": {
      "text/html": [
       "<div>\n",
       "<style scoped>\n",
       "    .dataframe tbody tr th:only-of-type {\n",
       "        vertical-align: middle;\n",
       "    }\n",
       "\n",
       "    .dataframe tbody tr th {\n",
       "        vertical-align: top;\n",
       "    }\n",
       "\n",
       "    .dataframe thead th {\n",
       "        text-align: right;\n",
       "    }\n",
       "</style>\n",
       "<table border=\"1\" class=\"dataframe\">\n",
       "  <thead>\n",
       "    <tr style=\"text-align: right;\">\n",
       "      <th></th>\n",
       "      <th>HomeTeam</th>\n",
       "      <th>AwayTeam</th>\n",
       "      <th>HomeGoals</th>\n",
       "      <th>AwayGoals</th>\n",
       "    </tr>\n",
       "  </thead>\n",
       "  <tbody>\n",
       "    <tr>\n",
       "      <th>0</th>\n",
       "      <td>Crystal Palace</td>\n",
       "      <td>Arsenal</td>\n",
       "      <td>0</td>\n",
       "      <td>2</td>\n",
       "    </tr>\n",
       "    <tr>\n",
       "      <th>1</th>\n",
       "      <td>Fulham</td>\n",
       "      <td>Liverpool</td>\n",
       "      <td>2</td>\n",
       "      <td>2</td>\n",
       "    </tr>\n",
       "    <tr>\n",
       "      <th>2</th>\n",
       "      <td>Bournemouth</td>\n",
       "      <td>Aston Villa</td>\n",
       "      <td>2</td>\n",
       "      <td>0</td>\n",
       "    </tr>\n",
       "    <tr>\n",
       "      <th>3</th>\n",
       "      <td>Leeds</td>\n",
       "      <td>Wolves</td>\n",
       "      <td>2</td>\n",
       "      <td>1</td>\n",
       "    </tr>\n",
       "    <tr>\n",
       "      <th>4</th>\n",
       "      <td>Newcastle</td>\n",
       "      <td>Nott'm Forest</td>\n",
       "      <td>2</td>\n",
       "      <td>0</td>\n",
       "    </tr>\n",
       "  </tbody>\n",
       "</table>\n",
       "</div>"
      ],
      "text/plain": [
       "         HomeTeam       AwayTeam  HomeGoals  AwayGoals\n",
       "0  Crystal Palace        Arsenal          0          2\n",
       "1          Fulham      Liverpool          2          2\n",
       "2     Bournemouth    Aston Villa          2          0\n",
       "3           Leeds         Wolves          2          1\n",
       "4       Newcastle  Nott'm Forest          2          0"
      ]
     },
     "execution_count": 6,
     "metadata": {},
     "output_type": "execute_result"
    }
   ],
   "source": [
    "data = pd.read_csv(\"https://www.football-data.co.uk/mmz4281/2223/E0.csv\")\n",
    "data = data[['HomeTeam','AwayTeam','FTHG','FTAG']]\n",
    "data = data.rename(columns={'FTHG': 'HomeGoals', 'FTAG': 'AwayGoals'})\n",
    "data.head()"
   ]
  },
  {
   "cell_type": "code",
   "execution_count": 7,
   "id": "663982eb",
   "metadata": {},
   "outputs": [],
   "source": [
    "def team_scoring_prediction(data, home_team, away_team):\n",
    "    total_home_goals = data['HomeGoals'].sum()\n",
    "    total_home_goals_mean = (total_home_goals/data.shape[0]).round(2)\n",
    "    print(\"Average mean Home goal scored in EPL: \" +str(total_home_goals_mean))\n",
    "    \n",
    "    total_away_goals = data['AwayGoals'].sum()\n",
    "    total_away_goals_mean = (total_away_goals/data.shape[0]).round(2)\n",
    "    print(\"Average mean Away goal scored in EPL: \" +str(total_away_goals_mean))\n",
    "    \n",
    "    #Select the home team and away team\n",
    "    \n",
    "    home_team = data.loc[data['HomeTeam'] == home_team]\n",
    "    away_team = data.loc[data['AwayTeam'] == away_team]\n",
    "    \n",
    "    #Home goals scored by home team and mean\n",
    "    \n",
    "    home_team_home_goals_score = home_team['HomeGoals'].sum()\n",
    "    home_team_home_goals_score_mean = (home_team_home_goals_score/home_team.shape[0]).round(2)\n",
    "    print(\"Average Home goal scored by Home team in EPL: \" + str(home_team_home_goals_score_mean))\n",
    "    \n",
    "    #Home goals conceded by home team\n",
    "    \n",
    "    home_team_home_goals_concede = home_team['AwayGoals'].sum()\n",
    "    home_team_home_goals_concede_mean = (home_team_home_goals_concede/home_team.shape[0]).round(2)\n",
    "    print(\"Average Home goal conceded by Home team in EPL: \" + str(home_team_home_goals_concede_mean))\n",
    "    \n",
    "    #Home team attacking strength \n",
    "    home_team_att_strength = (home_team_home_goals_score_mean/ total_home_goals_mean).round(2)\n",
    "    print(\"Home team attacking strength: \" + str(home_team_att_strength))\n",
    "    \n",
    "    #Home team defensive strength \n",
    "    home_team_def_strength = (home_team_home_goals_concede_mean/ total_away_goals_mean).round(2)\n",
    "    print(\"Home team defensive strength: \" + str(home_team_def_strength))\n",
    "    \n",
    "    #Away goals scored by away team and mean\n",
    "    \n",
    "    away_team_away_goals_score = away_team['AwayGoals'].sum()\n",
    "    away_team_away_goals_score_mean = (away_team_away_goals_score/away_team.shape[0]).round(2)\n",
    "    print(\"Average Away goal scored by Away team in EPL: \" + str(away_team_away_goals_score_mean))\n",
    "    \n",
    "    #Away goals conceded by Away team\n",
    "    \n",
    "    away_team_away_goals_concede = away_team['HomeGoals'].sum()\n",
    "    away_team_away_goals_concede_mean = (away_team_away_goals_concede/away_team.shape[0]).round(2)\n",
    "    print(\"Average Away goal conceded by Away team in EPL: \"+ str(away_team_away_goals_concede_mean))\n",
    "    \n",
    "    \n",
    "    #Away team attacking strength \n",
    "    away_team_att_strength = (away_team_away_goals_score_mean/ total_away_goals_mean).round(2)\n",
    "    print(\"Away team attacking strength: \" + str(away_team_att_strength))\n",
    "    \n",
    "    #Away team defensive strength\n",
    "    away_team_def_strength = (away_team_away_goals_concede_mean/ total_home_goals_mean).round(2)\n",
    "    print(\"Away team defensive strength: \" + str(away_team_def_strength))\n",
    "    \n",
    "    #Home team scoring strength\n",
    "    home_team_goal_exp = (home_team_att_strength * away_team_def_strength * total_home_goals_mean).round(2)\n",
    "    #home_team_goal_exp = (home_team_att_strength * away_team_def_strength).round(2)\n",
    "    print(\"Home team goal expectance: \"+ str(home_team_goal_exp))\n",
    "    \n",
    "    #Away team scoring strength\n",
    "    away_team_goal_exp = (away_team_att_strength * home_team_def_strength * total_away_goals_mean).round(2)\n",
    "    #away_team_goal_exp = (away_team_att_strength * home_team_def_strength).round(2)\n",
    "    print(\"Away team goal expectance: \" + str(away_team_goal_exp))\n",
    "    \n",
    "    return home_team_goal_exp, away_team_goal_exp\n"
   ]
  },
  {
   "cell_type": "code",
   "execution_count": 8,
   "id": "b60be48f",
   "metadata": {},
   "outputs": [
    {
     "name": "stdout",
     "output_type": "stream",
     "text": [
      "Average mean Home goal scored in EPL: 1.6\n",
      "Average mean Away goal scored in EPL: 1.13\n",
      "Average Home goal scored by Home team in EPL: 1.64\n",
      "Average Home goal conceded by Home team in EPL: 1.36\n",
      "Home team attacking strength: 1.02\n",
      "Home team defensive strength: 1.2\n",
      "Average Away goal scored by Away team in EPL: 0.86\n",
      "Average Away goal conceded by Away team in EPL: 2.71\n",
      "Away team attacking strength: 0.76\n",
      "Away team defensive strength: 1.69\n",
      "Home team goal expectance: 2.76\n",
      "Away team goal expectance: 1.03\n"
     ]
    }
   ],
   "source": [
    "home_team_goal, away_team_goal = team_scoring_prediction(data, 'Aston Villa','Bournemouth')"
   ]
  },
  {
   "cell_type": "code",
   "execution_count": 9,
   "id": "7d4953bc",
   "metadata": {},
   "outputs": [
    {
     "name": "stdout",
     "output_type": "stream",
     "text": [
      "Home team goal: 2.76\n",
      "Away team goal: 1.03\n"
     ]
    }
   ],
   "source": [
    "print(\"Home team goal: \" +str(home_team_goal))\n",
    "print(\"Away team goal: \" +str(away_team_goal))"
   ]
  },
  {
   "cell_type": "code",
   "execution_count": 10,
   "id": "23377623",
   "metadata": {},
   "outputs": [
    {
     "name": "stdout",
     "output_type": "stream",
     "text": [
      "Home team goal per 95 minutes: 0.029\n",
      "Away team goal per 95 minutes: 0.011\n"
     ]
    }
   ],
   "source": [
    "home_team_goal_per_95 = home_team_goal/ 95\n",
    "away_team_goal_per_95 = away_team_goal/ 95\n",
    "\n",
    "print(\"Home team goal per 95 minutes: \" +str(np.round(home_team_goal_per_95, 3)))\n",
    "print(\"Away team goal per 95 minutes: \" +str(np.round(away_team_goal_per_95, 3)))"
   ]
  },
  {
   "cell_type": "code",
   "execution_count": 11,
   "id": "5fd00a1f",
   "metadata": {},
   "outputs": [],
   "source": [
    "def team_goals(total_minutes, probability):\n",
    "    goals = 0\n",
    "    for minute in range(total_minutes):\n",
    "        random_prob = np.random.random()\n",
    "        if (probability > random_prob):\n",
    "            goals = goals + 1\n",
    "    return goals"
   ]
  },
  {
   "cell_type": "code",
   "execution_count": 12,
   "id": "bea78e1e",
   "metadata": {},
   "outputs": [],
   "source": [
    "total_minutes = 95\n",
    "home_team_goals = []\n",
    "\n",
    "def home_team_goal_prob(n):\n",
    "    goals = 0\n",
    "    for i in range(0, 10000):\n",
    "        home_team_goals.append(team_goals(total_minutes, home_team_goal_per_95))\n",
    "        if home_team_goals[i] == n:\n",
    "            goals = goals+1\n",
    "            prob = goals/ 10000     \n",
    "    return prob, goals\n",
    " "
   ]
  },
  {
   "cell_type": "code",
   "execution_count": 13,
   "id": "7d324d5b",
   "metadata": {},
   "outputs": [
    {
     "name": "stdout",
     "output_type": "stream",
     "text": [
      "0.0627 627\n",
      "0.1746 1746\n",
      "0.241 2410\n",
      "0.227 2270\n",
      "0.157 1570\n",
      "0.0841 841\n"
     ]
    }
   ],
   "source": [
    "home_0, g = home_team_goal_prob(0)\n",
    "print(home_0, g)\n",
    "\n",
    "home_1, g = home_team_goal_prob(1)\n",
    "print(home_1, g)\n",
    "\n",
    "home_2, g = home_team_goal_prob(2)\n",
    "print(home_2, g)\n",
    "\n",
    "home_3, g = home_team_goal_prob(3)\n",
    "print(home_3, g)\n",
    "\n",
    "home_4, g = home_team_goal_prob(4)\n",
    "print(home_4, g)\n",
    "\n",
    "home_5, g = home_team_goal_prob(5)\n",
    "print(home_5, g)"
   ]
  },
  {
   "cell_type": "code",
   "execution_count": 14,
   "id": "afba3a66",
   "metadata": {},
   "outputs": [
    {
     "data": {
      "text/html": [
       "<div>\n",
       "<style scoped>\n",
       "    .dataframe tbody tr th:only-of-type {\n",
       "        vertical-align: middle;\n",
       "    }\n",
       "\n",
       "    .dataframe tbody tr th {\n",
       "        vertical-align: top;\n",
       "    }\n",
       "\n",
       "    .dataframe thead th {\n",
       "        text-align: right;\n",
       "    }\n",
       "</style>\n",
       "<table border=\"1\" class=\"dataframe\">\n",
       "  <thead>\n",
       "    <tr style=\"text-align: right;\">\n",
       "      <th></th>\n",
       "      <th>Probs</th>\n",
       "    </tr>\n",
       "  </thead>\n",
       "  <tbody>\n",
       "    <tr>\n",
       "      <th>0</th>\n",
       "      <td>0.0627</td>\n",
       "    </tr>\n",
       "    <tr>\n",
       "      <th>1</th>\n",
       "      <td>0.1746</td>\n",
       "    </tr>\n",
       "    <tr>\n",
       "      <th>2</th>\n",
       "      <td>0.2410</td>\n",
       "    </tr>\n",
       "    <tr>\n",
       "      <th>3</th>\n",
       "      <td>0.2270</td>\n",
       "    </tr>\n",
       "    <tr>\n",
       "      <th>4</th>\n",
       "      <td>0.1570</td>\n",
       "    </tr>\n",
       "    <tr>\n",
       "      <th>5</th>\n",
       "      <td>0.0841</td>\n",
       "    </tr>\n",
       "  </tbody>\n",
       "</table>\n",
       "</div>"
      ],
      "text/plain": [
       "    Probs\n",
       "0  0.0627\n",
       "1  0.1746\n",
       "2  0.2410\n",
       "3  0.2270\n",
       "4  0.1570\n",
       "5  0.0841"
      ]
     },
     "execution_count": 14,
     "metadata": {},
     "output_type": "execute_result"
    }
   ],
   "source": [
    "home_chance = [home_0, home_1, home_2, home_3, home_4, home_5]\n",
    "home_chance_frame = pd.DataFrame(home_chance, columns=['Probs'])\n",
    "home_chance_frame = home_chance_frame\n",
    "home_chance_frame"
   ]
  },
  {
   "cell_type": "code",
   "execution_count": 15,
   "id": "c520af3d",
   "metadata": {},
   "outputs": [],
   "source": [
    "total_minutes = 95\n",
    "away_team_goals = []\n",
    "\n",
    "def away_team_goal_prob(n):\n",
    "    goals = 0\n",
    "    for i in range(0, 10000):\n",
    "        away_team_goals.append(team_goals(total_minutes, away_team_goal_per_95))\n",
    "        if away_team_goals[i] == n:\n",
    "            goals = goals+1\n",
    "            prob = goals/ 10000     \n",
    "    return prob, goals\n",
    " "
   ]
  },
  {
   "cell_type": "code",
   "execution_count": 16,
   "id": "9ce7bd3d",
   "metadata": {},
   "outputs": [
    {
     "name": "stdout",
     "output_type": "stream",
     "text": [
      "0.3612 3612\n",
      "0.3697 3697\n",
      "0.1845 1845\n",
      "0.0628 628\n",
      "0.0171 171\n",
      "0.0038 38\n"
     ]
    }
   ],
   "source": [
    "away_0, g = away_team_goal_prob(0)\n",
    "print(away_0, g)\n",
    "\n",
    "away_1, g = away_team_goal_prob(1)\n",
    "print(away_1, g)\n",
    "\n",
    "away_2, g = away_team_goal_prob(2)\n",
    "print(away_2, g)\n",
    "\n",
    "away_3, g = away_team_goal_prob(3)\n",
    "print(away_3, g)\n",
    "\n",
    "away_4, g = away_team_goal_prob(4)\n",
    "print(away_4, g)\n",
    "\n",
    "away_5, g = away_team_goal_prob(5)\n",
    "print(away_5, g)"
   ]
  },
  {
   "cell_type": "code",
   "execution_count": 17,
   "id": "f8b895a9",
   "metadata": {},
   "outputs": [
    {
     "data": {
      "text/html": [
       "<div>\n",
       "<style scoped>\n",
       "    .dataframe tbody tr th:only-of-type {\n",
       "        vertical-align: middle;\n",
       "    }\n",
       "\n",
       "    .dataframe tbody tr th {\n",
       "        vertical-align: top;\n",
       "    }\n",
       "\n",
       "    .dataframe thead th {\n",
       "        text-align: right;\n",
       "    }\n",
       "</style>\n",
       "<table border=\"1\" class=\"dataframe\">\n",
       "  <thead>\n",
       "    <tr style=\"text-align: right;\">\n",
       "      <th></th>\n",
       "      <th>Probs</th>\n",
       "    </tr>\n",
       "  </thead>\n",
       "  <tbody>\n",
       "    <tr>\n",
       "      <th>0</th>\n",
       "      <td>0.3612</td>\n",
       "    </tr>\n",
       "    <tr>\n",
       "      <th>1</th>\n",
       "      <td>0.3697</td>\n",
       "    </tr>\n",
       "    <tr>\n",
       "      <th>2</th>\n",
       "      <td>0.1845</td>\n",
       "    </tr>\n",
       "    <tr>\n",
       "      <th>3</th>\n",
       "      <td>0.0628</td>\n",
       "    </tr>\n",
       "    <tr>\n",
       "      <th>4</th>\n",
       "      <td>0.0171</td>\n",
       "    </tr>\n",
       "    <tr>\n",
       "      <th>5</th>\n",
       "      <td>0.0038</td>\n",
       "    </tr>\n",
       "  </tbody>\n",
       "</table>\n",
       "</div>"
      ],
      "text/plain": [
       "    Probs\n",
       "0  0.3612\n",
       "1  0.3697\n",
       "2  0.1845\n",
       "3  0.0628\n",
       "4  0.0171\n",
       "5  0.0038"
      ]
     },
     "execution_count": 17,
     "metadata": {},
     "output_type": "execute_result"
    }
   ],
   "source": [
    "away_chance= [away_0, away_1, away_2, away_3, away_4, away_5]\n",
    "away_chance_frame = pd.DataFrame(away_chance, columns=['Probs'])\n",
    "away_chance_frame = away_chance_frame\n",
    "away_chance_frame"
   ]
  },
  {
   "cell_type": "code",
   "execution_count": 18,
   "id": "4f317593",
   "metadata": {},
   "outputs": [
    {
     "data": {
      "text/html": [
       "<div>\n",
       "<style scoped>\n",
       "    .dataframe tbody tr th:only-of-type {\n",
       "        vertical-align: middle;\n",
       "    }\n",
       "\n",
       "    .dataframe tbody tr th {\n",
       "        vertical-align: top;\n",
       "    }\n",
       "\n",
       "    .dataframe thead th {\n",
       "        text-align: right;\n",
       "    }\n",
       "</style>\n",
       "<table border=\"1\" class=\"dataframe\">\n",
       "  <thead>\n",
       "    <tr style=\"text-align: right;\">\n",
       "      <th></th>\n",
       "      <th>0</th>\n",
       "      <th>1</th>\n",
       "      <th>2</th>\n",
       "      <th>3</th>\n",
       "      <th>4</th>\n",
       "      <th>5</th>\n",
       "    </tr>\n",
       "  </thead>\n",
       "  <tbody>\n",
       "    <tr>\n",
       "      <th>0</th>\n",
       "      <td>0.023</td>\n",
       "      <td>0.023</td>\n",
       "      <td>0.012</td>\n",
       "      <td>0.004</td>\n",
       "      <td>0.001</td>\n",
       "      <td>0.000</td>\n",
       "    </tr>\n",
       "    <tr>\n",
       "      <th>1</th>\n",
       "      <td>0.063</td>\n",
       "      <td>0.065</td>\n",
       "      <td>0.032</td>\n",
       "      <td>0.011</td>\n",
       "      <td>0.003</td>\n",
       "      <td>0.001</td>\n",
       "    </tr>\n",
       "    <tr>\n",
       "      <th>2</th>\n",
       "      <td>0.087</td>\n",
       "      <td>0.089</td>\n",
       "      <td>0.044</td>\n",
       "      <td>0.015</td>\n",
       "      <td>0.004</td>\n",
       "      <td>0.001</td>\n",
       "    </tr>\n",
       "    <tr>\n",
       "      <th>3</th>\n",
       "      <td>0.082</td>\n",
       "      <td>0.084</td>\n",
       "      <td>0.042</td>\n",
       "      <td>0.014</td>\n",
       "      <td>0.004</td>\n",
       "      <td>0.001</td>\n",
       "    </tr>\n",
       "    <tr>\n",
       "      <th>4</th>\n",
       "      <td>0.057</td>\n",
       "      <td>0.058</td>\n",
       "      <td>0.029</td>\n",
       "      <td>0.010</td>\n",
       "      <td>0.003</td>\n",
       "      <td>0.001</td>\n",
       "    </tr>\n",
       "    <tr>\n",
       "      <th>5</th>\n",
       "      <td>0.030</td>\n",
       "      <td>0.031</td>\n",
       "      <td>0.016</td>\n",
       "      <td>0.005</td>\n",
       "      <td>0.001</td>\n",
       "      <td>0.000</td>\n",
       "    </tr>\n",
       "  </tbody>\n",
       "</table>\n",
       "</div>"
      ],
      "text/plain": [
       "       0      1      2      3      4      5\n",
       "0  0.023  0.023  0.012  0.004  0.001  0.000\n",
       "1  0.063  0.065  0.032  0.011  0.003  0.001\n",
       "2  0.087  0.089  0.044  0.015  0.004  0.001\n",
       "3  0.082  0.084  0.042  0.014  0.004  0.001\n",
       "4  0.057  0.058  0.029  0.010  0.003  0.001\n",
       "5  0.030  0.031  0.016  0.005  0.001  0.000"
      ]
     },
     "execution_count": 18,
     "metadata": {},
     "output_type": "execute_result"
    }
   ],
   "source": [
    "df_cross = home_chance_frame.dot(away_chance_frame.T)\n",
    "df_cross = df_cross.round(3)\n",
    "df_cross"
   ]
  },
  {
   "cell_type": "code",
   "execution_count": 19,
   "id": "150a6116",
   "metadata": {},
   "outputs": [],
   "source": [
    "def printDiagonalSums(mat, n):\n",
    " \n",
    "    principal = 0\n",
    "    secondary = 0;\n",
    "    for i in range(0, n):\n",
    "        for j in range(0, n):\n",
    " \n",
    "            # Condition for principal diagonal\n",
    "            if (i == j):\n",
    "                principal += mat[i][j]\n",
    " \n",
    "            # Condition for secondary diagonal\n",
    "            if ((i + j) == (n - 1)):\n",
    "                secondary += mat[i][j]\n",
    "         \n",
    "    return principal"
   ]
  },
  {
   "cell_type": "code",
   "execution_count": 20,
   "id": "d74fec5d",
   "metadata": {},
   "outputs": [
    {
     "name": "stdout",
     "output_type": "stream",
     "text": [
      "0.14900000000000002\n",
      "       0      1      2      3      4      5\n",
      "0  0.023  0.023  0.012  0.004  0.001  0.000\n",
      "1    NaN  0.065  0.032  0.011  0.003  0.001\n",
      "2    NaN    NaN  0.044  0.015  0.004  0.001\n",
      "3    NaN    NaN    NaN  0.014  0.004  0.001\n",
      "4    NaN    NaN    NaN    NaN  0.003  0.001\n",
      "5    NaN    NaN    NaN    NaN    NaN  0.000\n"
     ]
    },
    {
     "name": "stderr",
     "output_type": "stream",
     "text": [
      "/Users/aritramajumdar/anaconda3/lib/python3.7/site-packages/ipykernel_launcher.py:4: DeprecationWarning: `np.bool` is a deprecated alias for the builtin `bool`. To silence this warning, use `bool` by itself. Doing this will not modify any behavior and is safe. If you specifically wanted the numpy scalar type, use `np.bool_` here.\n",
      "Deprecated in NumPy 1.20; for more details and guidance: https://numpy.org/devdocs/release/1.20.0-notes.html#deprecations\n",
      "  after removing the cwd from sys.path.\n"
     ]
    }
   ],
   "source": [
    "principal = printDiagonalSums(df_cross, 5)\n",
    "print(principal)\n",
    "\n",
    "df_cross_up = df_cross.where(np.triu(np.ones(df_cross.shape)).astype(np.bool))\n",
    "print(df_cross_up)"
   ]
  },
  {
   "cell_type": "code",
   "execution_count": 21,
   "id": "582deff0",
   "metadata": {},
   "outputs": [
    {
     "name": "stdout",
     "output_type": "stream",
     "text": [
      "machineball home win chance: 68.4\n",
      "machineball draw chance: 14.899999999999999\n",
      "machineball away chance: 11.3\n",
      "machineball total chance: 94.60000000000001\n"
     ]
    }
   ],
   "source": [
    "draw = principal\n",
    "\n",
    "home_team_win = df_cross.sum().sum() - df_cross_up.sum().sum()\n",
    "away_team_win = df_cross_up.sum().sum() - principal\n",
    "\n",
    "\n",
    "print(\"machineball home win chance: \" + str(np.round(home_team_win, 3)*100))\n",
    "print(\"machineball draw chance: \" + str(np.round(draw, 3)*100))\n",
    "print(\"machineball away chance: \" + str(np.round(away_team_win, 3)*100))\n",
    "\n",
    "print(\"machineball total chance: \" + str(np.round(home_team_win, 3)*100 + np.round(draw, 3)*100 + np.round(away_team_win, 3)*100))"
   ]
  },
  {
   "cell_type": "code",
   "execution_count": 22,
   "id": "de4fdf2e",
   "metadata": {},
   "outputs": [
    {
     "name": "stdout",
     "output_type": "stream",
     "text": [
      "machineball home team win odds: 1.46\n",
      "machineball draw odds: 6.71\n",
      "machineball away team win odds: 8.85\n"
     ]
    }
   ],
   "source": [
    "draw_odds = 1/ draw\n",
    "home_team_win_odds = 1/ home_team_win\n",
    "away_team_win_odds = 1/ away_team_win\n",
    "\n",
    "\n",
    "print(\"machineball home team win odds: \" + str(np.round(home_team_win_odds, 2)))\n",
    "print(\"machineball draw odds: \" + str(np.round(draw_odds, 2)))\n",
    "print(\"machineball away team win odds: \" + str(np.round(away_team_win_odds, 2)))"
   ]
  },
  {
   "cell_type": "code",
   "execution_count": 23,
   "id": "adbc0c9d",
   "metadata": {},
   "outputs": [
    {
     "name": "stdout",
     "output_type": "stream",
     "text": [
      "Bookie home win chance: 57.8\n",
      "Bookie draw chance: 26.67\n",
      "Bookie away win chance: 21.0\n",
      "Bookie total chance: 105.47\n"
     ]
    }
   ],
   "source": [
    "bookie_home_team_win_odds = 1.73\n",
    "bookie_draw = 3.75\n",
    "bookie_away_team_win_odds = 4.75\n",
    "\n",
    "Bookie_home_win = 1/ bookie_home_team_win_odds\n",
    "Bookie_draw = 1/ bookie_draw\n",
    "Bookie_away_win = 1/ bookie_away_team_win_odds\n",
    "\n",
    "print(\"Bookie home win chance: \" + str(np.round(Bookie_home_win * 100, 2)))\n",
    "print(\"Bookie draw chance: \" + str(np.round(Bookie_draw * 100, 2)))\n",
    "print(\"Bookie away win chance: \" +str(np.round(Bookie_away_win * 100)))\n",
    "print(\"Bookie total chance: \" + str(np.round(Bookie_home_win * 100, 2) + np.round(Bookie_draw * 100, 2) + np.round(Bookie_away_win * 100)))"
   ]
  },
  {
   "cell_type": "code",
   "execution_count": 24,
   "id": "ce6d4bf8",
   "metadata": {},
   "outputs": [
    {
     "data": {
      "text/html": [
       "<div>\n",
       "<style scoped>\n",
       "    .dataframe tbody tr th:only-of-type {\n",
       "        vertical-align: middle;\n",
       "    }\n",
       "\n",
       "    .dataframe tbody tr th {\n",
       "        vertical-align: top;\n",
       "    }\n",
       "\n",
       "    .dataframe thead th {\n",
       "        text-align: right;\n",
       "    }\n",
       "</style>\n",
       "<table border=\"1\" class=\"dataframe\">\n",
       "  <thead>\n",
       "    <tr style=\"text-align: right;\">\n",
       "      <th></th>\n",
       "      <th>Away_scoring</th>\n",
       "      <th>0</th>\n",
       "      <th>1</th>\n",
       "      <th>2</th>\n",
       "      <th>3</th>\n",
       "      <th>4</th>\n",
       "      <th>5</th>\n",
       "    </tr>\n",
       "    <tr>\n",
       "      <th></th>\n",
       "      <th>Home_scoring</th>\n",
       "      <th></th>\n",
       "      <th></th>\n",
       "      <th></th>\n",
       "      <th></th>\n",
       "      <th></th>\n",
       "      <th></th>\n",
       "    </tr>\n",
       "  </thead>\n",
       "  <tbody>\n",
       "    <tr>\n",
       "      <th>0</th>\n",
       "      <th>0</th>\n",
       "      <td>0.023</td>\n",
       "      <td>0.023</td>\n",
       "      <td>0.012</td>\n",
       "      <td>0.004</td>\n",
       "      <td>0.001</td>\n",
       "      <td>0.000</td>\n",
       "    </tr>\n",
       "    <tr>\n",
       "      <th>1</th>\n",
       "      <th>1</th>\n",
       "      <td>0.063</td>\n",
       "      <td>0.065</td>\n",
       "      <td>0.032</td>\n",
       "      <td>0.011</td>\n",
       "      <td>0.003</td>\n",
       "      <td>0.001</td>\n",
       "    </tr>\n",
       "    <tr>\n",
       "      <th>2</th>\n",
       "      <th>2</th>\n",
       "      <td>0.087</td>\n",
       "      <td>0.089</td>\n",
       "      <td>0.044</td>\n",
       "      <td>0.015</td>\n",
       "      <td>0.004</td>\n",
       "      <td>0.001</td>\n",
       "    </tr>\n",
       "    <tr>\n",
       "      <th>3</th>\n",
       "      <th>3</th>\n",
       "      <td>0.082</td>\n",
       "      <td>0.084</td>\n",
       "      <td>0.042</td>\n",
       "      <td>0.014</td>\n",
       "      <td>0.004</td>\n",
       "      <td>0.001</td>\n",
       "    </tr>\n",
       "    <tr>\n",
       "      <th>4</th>\n",
       "      <th>4</th>\n",
       "      <td>0.057</td>\n",
       "      <td>0.058</td>\n",
       "      <td>0.029</td>\n",
       "      <td>0.010</td>\n",
       "      <td>0.003</td>\n",
       "      <td>0.001</td>\n",
       "    </tr>\n",
       "    <tr>\n",
       "      <th>5</th>\n",
       "      <th>5</th>\n",
       "      <td>0.030</td>\n",
       "      <td>0.031</td>\n",
       "      <td>0.016</td>\n",
       "      <td>0.005</td>\n",
       "      <td>0.001</td>\n",
       "      <td>0.000</td>\n",
       "    </tr>\n",
       "  </tbody>\n",
       "</table>\n",
       "</div>"
      ],
      "text/plain": [
       "Away_scoring        0      1      2      3      4      5\n",
       "  Home_scoring                                          \n",
       "0 0             0.023  0.023  0.012  0.004  0.001  0.000\n",
       "1 1             0.063  0.065  0.032  0.011  0.003  0.001\n",
       "2 2             0.087  0.089  0.044  0.015  0.004  0.001\n",
       "3 3             0.082  0.084  0.042  0.014  0.004  0.001\n",
       "4 4             0.057  0.058  0.029  0.010  0.003  0.001\n",
       "5 5             0.030  0.031  0.016  0.005  0.001  0.000"
      ]
     },
     "execution_count": 24,
     "metadata": {},
     "output_type": "execute_result"
    }
   ],
   "source": [
    "df_cross['Home_scoring'] = df_cross.index\n",
    "df_cross.set_index([\"Home_scoring\"], inplace = True,\n",
    "                            append = True, drop = True)\n",
    "\n",
    "df_cross = df_cross.rename_axis(\"Away_scoring\", axis=\"columns\")\n",
    "df_cross"
   ]
  },
  {
   "cell_type": "code",
   "execution_count": 25,
   "id": "f3fdcea0",
   "metadata": {},
   "outputs": [
    {
     "name": "stdout",
     "output_type": "stream",
     "text": [
      "Home team won 7325 times and 73.25% of the games\n",
      "Draw happens 1530 times and 15.299999999999999% of the games\n",
      "Away team won 1145 times and 11.450000000000001% of the games\n"
     ]
    }
   ],
   "source": [
    "total_minutes = 95\n",
    "home_team_goals = []\n",
    "away_team_goals = []\n",
    "\n",
    "home_team_win = 0\n",
    "draw = 0\n",
    "away_team_win = 0\n",
    "number_of_games = 10000\n",
    "\n",
    "for i in range(0, numer_of_games):\n",
    "    home_team_goals.append(team_goals(total_minutes, home_team_goal_per_95))\n",
    "    away_team_goals.append(team_goals(total_minutes, away_team_goal_per_95))\n",
    "    \n",
    "    if home_team_goals[i] > away_team_goals[i]:\n",
    "        home_team_win = home_team_win+1\n",
    "    elif home_team_goals[i] == away_team_goals[i]:\n",
    "        draw = draw + 1\n",
    "    else:\n",
    "        away_team_win = away_team_win+1\n",
    "      \n",
    "print(f\"Home team won {home_team_win} times and {(home_team_win/ number_of_games)*100}% of the games\")\n",
    "print(f\"Draw happens {draw} times and {(draw/ number_of_games)*100}% of the games\")\n",
    "print(f\"Away team won {away_team_win} times and {(away_team_win/ number_of_games)*100}% of the games\")"
   ]
  },
  {
   "cell_type": "code",
   "execution_count": null,
   "id": "022c050c",
   "metadata": {},
   "outputs": [],
   "source": []
  }
 ],
 "metadata": {
  "kernelspec": {
   "display_name": "Python 3",
   "language": "python",
   "name": "python3"
  },
  "language_info": {
   "codemirror_mode": {
    "name": "ipython",
    "version": 3
   },
   "file_extension": ".py",
   "mimetype": "text/x-python",
   "name": "python",
   "nbconvert_exporter": "python",
   "pygments_lexer": "ipython3",
   "version": "3.7.10"
  }
 },
 "nbformat": 4,
 "nbformat_minor": 5
}
