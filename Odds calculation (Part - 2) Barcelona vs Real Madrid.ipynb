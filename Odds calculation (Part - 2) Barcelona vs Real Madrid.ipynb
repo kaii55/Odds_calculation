{
 "cells": [
  {
   "cell_type": "code",
   "execution_count": 1,
   "id": "a5ff8f2d",
   "metadata": {},
   "outputs": [
    {
     "data": {
      "text/html": [
       "<div>\n",
       "<style scoped>\n",
       "    .dataframe tbody tr th:only-of-type {\n",
       "        vertical-align: middle;\n",
       "    }\n",
       "\n",
       "    .dataframe tbody tr th {\n",
       "        vertical-align: top;\n",
       "    }\n",
       "\n",
       "    .dataframe thead th {\n",
       "        text-align: right;\n",
       "    }\n",
       "</style>\n",
       "<table border=\"1\" class=\"dataframe\">\n",
       "  <thead>\n",
       "    <tr style=\"text-align: right;\">\n",
       "      <th></th>\n",
       "      <th>HomeTeam</th>\n",
       "      <th>AwayTeam</th>\n",
       "      <th>HomeGoals</th>\n",
       "      <th>AwayGoals</th>\n",
       "    </tr>\n",
       "  </thead>\n",
       "  <tbody>\n",
       "    <tr>\n",
       "      <th>0</th>\n",
       "      <td>Osasuna</td>\n",
       "      <td>Sevilla</td>\n",
       "      <td>2</td>\n",
       "      <td>1</td>\n",
       "    </tr>\n",
       "    <tr>\n",
       "      <th>1</th>\n",
       "      <td>Celta</td>\n",
       "      <td>Espanol</td>\n",
       "      <td>2</td>\n",
       "      <td>2</td>\n",
       "    </tr>\n",
       "    <tr>\n",
       "      <th>2</th>\n",
       "      <td>Valladolid</td>\n",
       "      <td>Villarreal</td>\n",
       "      <td>0</td>\n",
       "      <td>3</td>\n",
       "    </tr>\n",
       "    <tr>\n",
       "      <th>3</th>\n",
       "      <td>Barcelona</td>\n",
       "      <td>Vallecano</td>\n",
       "      <td>0</td>\n",
       "      <td>0</td>\n",
       "    </tr>\n",
       "    <tr>\n",
       "      <th>4</th>\n",
       "      <td>Cadiz</td>\n",
       "      <td>Sociedad</td>\n",
       "      <td>0</td>\n",
       "      <td>1</td>\n",
       "    </tr>\n",
       "  </tbody>\n",
       "</table>\n",
       "</div>"
      ],
      "text/plain": [
       "     HomeTeam    AwayTeam  HomeGoals  AwayGoals\n",
       "0     Osasuna     Sevilla          2          1\n",
       "1       Celta     Espanol          2          2\n",
       "2  Valladolid  Villarreal          0          3\n",
       "3   Barcelona   Vallecano          0          0\n",
       "4       Cadiz    Sociedad          0          1"
      ]
     },
     "execution_count": 1,
     "metadata": {},
     "output_type": "execute_result"
    }
   ],
   "source": [
    "import pandas as pd\n",
    "epl = pd.read_csv(\"https://www.football-data.co.uk/mmz4281/2223/SP1.csv\")\n",
    "\n",
    "epl = epl[['HomeTeam','AwayTeam','FTHG','FTAG']]\n",
    "epl = epl.rename(columns={'FTHG': 'HomeGoals', 'FTAG': 'AwayGoals'})\n",
    "epl.head()"
   ]
  },
  {
   "cell_type": "code",
   "execution_count": 2,
   "id": "29b4bd7b",
   "metadata": {},
   "outputs": [
    {
     "data": {
      "text/plain": [
       "array(['Osasuna', 'Celta', 'Valladolid', 'Barcelona', 'Cadiz', 'Valencia',\n",
       "       'Almeria', 'Ath Bilbao', 'Getafe', 'Betis', 'Espanol', 'Sevilla',\n",
       "       'Mallorca', 'Ath Madrid', 'Sociedad', 'Elche', 'Girona',\n",
       "       'Vallecano', 'Real Madrid', 'Villarreal'], dtype=object)"
      ]
     },
     "execution_count": 2,
     "metadata": {},
     "output_type": "execute_result"
    }
   ],
   "source": [
    "epl.HomeTeam.unique()"
   ]
  },
  {
   "cell_type": "code",
   "execution_count": 3,
   "id": "2286c71f",
   "metadata": {},
   "outputs": [],
   "source": [
    "def poission_prediction(data, home_team, away_team):\n",
    "    total_home_goals = data['HomeGoals'].sum()\n",
    "    total_home_goals_mean = (total_home_goals/data.shape[0]).round(2)\n",
    "    print(total_home_goals_mean)\n",
    "    \n",
    "    total_away_goals = data['AwayGoals'].sum()\n",
    "    total_away_goals_mean = (total_away_goals/data.shape[0]).round(2)\n",
    "    print(total_away_goals_mean)\n",
    "    \n",
    "    #Select the home team and away team\n",
    "    \n",
    "    home_team = epl.loc[epl['HomeTeam'] == home_team]\n",
    "    away_team = epl.loc[epl['AwayTeam'] == away_team]\n",
    "    \n",
    "    #Home goals scored by home team and mean\n",
    "    \n",
    "    home_team_home_goals_score = home_team['HomeGoals'].sum()\n",
    "    home_team_home_goals_score_mean = (home_team_home_goals_score/home_team.shape[0]).round(2)\n",
    "    print(home_team_home_goals_score_mean)\n",
    "    \n",
    "    #Home goals conceded by home team\n",
    "    \n",
    "    home_team_home_goals_concede = home_team['AwayGoals'].sum()\n",
    "    home_team_home_goals_concede_mean = (home_team_home_goals_concede/home_team.shape[0]).round(2)\n",
    "    print(home_team_home_goals_concede_mean)\n",
    "    \n",
    "    #Home team attacking strength \n",
    "    home_team_att_strength = (home_team_home_goals_score_mean/ total_home_goals_mean).round(2)\n",
    "    print(home_team_att_strength)\n",
    "    \n",
    "    #Home team defensive strength \n",
    "    home_team_def_strength = (home_team_home_goals_concede_mean/ total_away_goals_mean).round(2)\n",
    "    print(home_team_def_strength)\n",
    "    \n",
    "    #Away goals scored by away team and mean\n",
    "    \n",
    "    away_team_away_goals_score = away_team['AwayGoals'].sum()\n",
    "    away_team_away_goals_score_mean = (away_team_away_goals_score/away_team.shape[0]).round(2)\n",
    "    print(away_team_away_goals_score_mean)\n",
    "    \n",
    "    #Away goals conceded by Away team\n",
    "    \n",
    "    away_team_away_goals_concede = away_team['HomeGoals'].sum()\n",
    "    away_team_away_goals_concede_mean = (away_team_away_goals_concede/away_team.shape[0]).round(2)\n",
    "    print(away_team_away_goals_concede_mean)\n",
    "    \n",
    "    \n",
    "    #Away team attacking strength \n",
    "    away_team_att_strength = (away_team_away_goals_score_mean/ total_away_goals_mean).round(2)\n",
    "    print(away_team_att_strength)\n",
    "    \n",
    "    #Away team defensive strength\n",
    "    away_team_def_strength = (away_team_away_goals_concede_mean/ total_home_goals_mean).round(2)\n",
    "    print(away_team_def_strength)\n",
    "    \n",
    "    #Home team scoring strength\n",
    "    home_team_goal_exp = (home_team_att_strength * away_team_def_strength * total_home_goals_mean).round(2)\n",
    "    #home_team_goal_exp = (home_team_att_strength * away_team_def_strength).round(2)\n",
    "    print(home_team_goal_exp)\n",
    "    \n",
    "    #Away team scoring strength\n",
    "    away_team_goal_exp = (away_team_att_strength * home_team_def_strength * total_away_goals_mean).round(2)\n",
    "    #away_team_goal_exp = (away_team_att_strength * home_team_def_strength).round(2)\n",
    "    print(away_team_goal_exp)\n",
    "    \n",
    "    return home_team_goal_exp, away_team_goal_exp\n",
    "\n",
    "\n"
   ]
  },
  {
   "cell_type": "code",
   "execution_count": 4,
   "id": "41fa5c50",
   "metadata": {},
   "outputs": [
    {
     "name": "stdout",
     "output_type": "stream",
     "text": [
      "1.38\n",
      "1.05\n",
      "2.08\n",
      "0.15\n",
      "1.51\n",
      "0.14\n",
      "1.79\n",
      "0.86\n",
      "1.7\n",
      "0.62\n",
      "1.29\n",
      "0.25\n"
     ]
    }
   ],
   "source": [
    "home_team_goal, away_team_goal = poission_prediction(epl, 'Barcelona','Real Madrid')"
   ]
  },
  {
   "cell_type": "code",
   "execution_count": 5,
   "id": "dc99c68c",
   "metadata": {},
   "outputs": [],
   "source": [
    "from numpy import random\n",
    "home_team_poission = random.poisson(lam=home_team_goal, size=100000)\n",
    "away_team_poission = random.poisson(lam=away_team_goal, size=100000)"
   ]
  },
  {
   "cell_type": "markdown",
   "id": "b7f92447",
   "metadata": {},
   "source": [
    "from numpy import random \n",
    "bias = (50/100) \n",
    "home_team_poission = random.poisson(lam=home_team_goal, size=100000) \n",
    "away_team_poission = random.poisson(lam=away_team_goal + bias, size=100000)"
   ]
  },
  {
   "cell_type": "code",
   "execution_count": 6,
   "id": "1a215f9a",
   "metadata": {},
   "outputs": [],
   "source": [
    "def home_team_goal_prob(n):\n",
    "    chance_g = 0\n",
    "    for i in range(0, 10000):\n",
    "        if home_team_poission[i] == n:\n",
    "            chance_g = chance_g+1\n",
    "            prob = chance_g/ 10000     \n",
    "    return prob, chance_g"
   ]
  },
  {
   "cell_type": "code",
   "execution_count": 7,
   "id": "5e272531",
   "metadata": {},
   "outputs": [],
   "source": [
    "def away_team_goal_prob(n):\n",
    "    chance_g = 0\n",
    "    for i in range(0, 10000):\n",
    "        if away_team_poission[i] == n:\n",
    "            chance_g = chance_g+1\n",
    "            prob = chance_g/ 10000     \n",
    "    return prob, chance_g"
   ]
  },
  {
   "cell_type": "code",
   "execution_count": 8,
   "id": "2839bb5c",
   "metadata": {},
   "outputs": [
    {
     "name": "stdout",
     "output_type": "stream",
     "text": [
      "0.2782 2782\n",
      "0.3565 3565\n",
      "0.2319 2319\n",
      "0.0921 921\n",
      "0.0315 315\n",
      "0.0071 71\n"
     ]
    }
   ],
   "source": [
    "home_0, g = home_team_goal_prob(0)\n",
    "print(home_0, g)\n",
    "\n",
    "home_1, g = home_team_goal_prob(1)\n",
    "print(home_1, g)\n",
    "\n",
    "home_2, g = home_team_goal_prob(2)\n",
    "print(home_2, g)\n",
    "\n",
    "home_3, g = home_team_goal_prob(3)\n",
    "print(home_3, g)\n",
    "\n",
    "home_4, g = home_team_goal_prob(4)\n",
    "print(home_4, g)\n",
    "\n",
    "home_5, g = home_team_goal_prob(5)\n",
    "print(home_5, g)\n"
   ]
  },
  {
   "cell_type": "code",
   "execution_count": 9,
   "id": "1b191185",
   "metadata": {},
   "outputs": [
    {
     "name": "stdout",
     "output_type": "stream",
     "text": [
      "0.7763 7763\n",
      "0.2001 2001\n",
      "0.021 210\n",
      "0.0023 23\n",
      "0.0002 2\n",
      "0.0001 1\n"
     ]
    }
   ],
   "source": [
    "away_0, g = away_team_goal_prob(0)\n",
    "print(away_0, g)\n",
    "\n",
    "away_1, g = away_team_goal_prob(1)\n",
    "print(away_1, g)\n",
    "\n",
    "away_2, g = away_team_goal_prob(2)\n",
    "print(away_2, g)\n",
    "\n",
    "away_3, g = away_team_goal_prob(3)\n",
    "print(away_3, g)\n",
    "\n",
    "away_4, g = away_team_goal_prob(4)\n",
    "print(away_4, g)\n",
    "\n",
    "away_5, g = away_team_goal_prob(5)\n",
    "print(away_5, g)"
   ]
  },
  {
   "cell_type": "code",
   "execution_count": 10,
   "id": "d5dd6168",
   "metadata": {},
   "outputs": [
    {
     "data": {
      "text/html": [
       "<div>\n",
       "<style scoped>\n",
       "    .dataframe tbody tr th:only-of-type {\n",
       "        vertical-align: middle;\n",
       "    }\n",
       "\n",
       "    .dataframe tbody tr th {\n",
       "        vertical-align: top;\n",
       "    }\n",
       "\n",
       "    .dataframe thead th {\n",
       "        text-align: right;\n",
       "    }\n",
       "</style>\n",
       "<table border=\"1\" class=\"dataframe\">\n",
       "  <thead>\n",
       "    <tr style=\"text-align: right;\">\n",
       "      <th></th>\n",
       "      <th>Probs</th>\n",
       "    </tr>\n",
       "  </thead>\n",
       "  <tbody>\n",
       "    <tr>\n",
       "      <th>0</th>\n",
       "      <td>0.2782</td>\n",
       "    </tr>\n",
       "    <tr>\n",
       "      <th>1</th>\n",
       "      <td>0.3565</td>\n",
       "    </tr>\n",
       "    <tr>\n",
       "      <th>2</th>\n",
       "      <td>0.2319</td>\n",
       "    </tr>\n",
       "    <tr>\n",
       "      <th>3</th>\n",
       "      <td>0.0921</td>\n",
       "    </tr>\n",
       "    <tr>\n",
       "      <th>4</th>\n",
       "      <td>0.0315</td>\n",
       "    </tr>\n",
       "    <tr>\n",
       "      <th>5</th>\n",
       "      <td>0.0071</td>\n",
       "    </tr>\n",
       "  </tbody>\n",
       "</table>\n",
       "</div>"
      ],
      "text/plain": [
       "    Probs\n",
       "0  0.2782\n",
       "1  0.3565\n",
       "2  0.2319\n",
       "3  0.0921\n",
       "4  0.0315\n",
       "5  0.0071"
      ]
     },
     "execution_count": 10,
     "metadata": {},
     "output_type": "execute_result"
    }
   ],
   "source": [
    "home_chance = [home_0, home_1, home_2, home_3, home_4, home_5]\n",
    "home_chance_frame = pd.DataFrame(home_chance, columns=['Probs'])\n",
    "home_chance_frame = home_chance_frame\n",
    "home_chance_frame"
   ]
  },
  {
   "cell_type": "code",
   "execution_count": 11,
   "id": "092510b6",
   "metadata": {},
   "outputs": [
    {
     "data": {
      "text/html": [
       "<div>\n",
       "<style scoped>\n",
       "    .dataframe tbody tr th:only-of-type {\n",
       "        vertical-align: middle;\n",
       "    }\n",
       "\n",
       "    .dataframe tbody tr th {\n",
       "        vertical-align: top;\n",
       "    }\n",
       "\n",
       "    .dataframe thead th {\n",
       "        text-align: right;\n",
       "    }\n",
       "</style>\n",
       "<table border=\"1\" class=\"dataframe\">\n",
       "  <thead>\n",
       "    <tr style=\"text-align: right;\">\n",
       "      <th></th>\n",
       "      <th>Probs</th>\n",
       "    </tr>\n",
       "  </thead>\n",
       "  <tbody>\n",
       "    <tr>\n",
       "      <th>0</th>\n",
       "      <td>0.7763</td>\n",
       "    </tr>\n",
       "    <tr>\n",
       "      <th>1</th>\n",
       "      <td>0.2001</td>\n",
       "    </tr>\n",
       "    <tr>\n",
       "      <th>2</th>\n",
       "      <td>0.0210</td>\n",
       "    </tr>\n",
       "    <tr>\n",
       "      <th>3</th>\n",
       "      <td>0.0023</td>\n",
       "    </tr>\n",
       "    <tr>\n",
       "      <th>4</th>\n",
       "      <td>0.0002</td>\n",
       "    </tr>\n",
       "    <tr>\n",
       "      <th>5</th>\n",
       "      <td>0.0001</td>\n",
       "    </tr>\n",
       "  </tbody>\n",
       "</table>\n",
       "</div>"
      ],
      "text/plain": [
       "    Probs\n",
       "0  0.7763\n",
       "1  0.2001\n",
       "2  0.0210\n",
       "3  0.0023\n",
       "4  0.0002\n",
       "5  0.0001"
      ]
     },
     "execution_count": 11,
     "metadata": {},
     "output_type": "execute_result"
    }
   ],
   "source": [
    "away_chance= [away_0, away_1, away_2, away_3, away_4, away_5]\n",
    "away_chance_frame = pd.DataFrame(away_chance, columns=['Probs'])\n",
    "away_chance_frame = away_chance_frame\n",
    "away_chance_frame"
   ]
  },
  {
   "cell_type": "code",
   "execution_count": 12,
   "id": "7bbea4ed",
   "metadata": {},
   "outputs": [],
   "source": [
    "df_cross = home_chance_frame.dot(away_chance_frame.T)\n",
    "df_cross = df_cross.round(3)"
   ]
  },
  {
   "cell_type": "code",
   "execution_count": 13,
   "id": "c7509e38",
   "metadata": {},
   "outputs": [],
   "source": [
    "def printDiagonalSums(mat, n):\n",
    "    principal = 0\n",
    "    secondary = 0;\n",
    "    for i in range(0, n):\n",
    "        for j in range(0, n):\n",
    " \n",
    "            # Condition for principal diagonal\n",
    "            if (i == j):\n",
    "                principal += mat[i][j]\n",
    " \n",
    "            # Condition for secondary diagonal\n",
    "            if ((i + j) == (n - 1)):\n",
    "                secondary += mat[i][j]\n",
    "         \n",
    "    return principal"
   ]
  },
  {
   "cell_type": "code",
   "execution_count": 14,
   "id": "9f6a6796",
   "metadata": {},
   "outputs": [
    {
     "name": "stdout",
     "output_type": "stream",
     "text": [
      "0.292\n",
      "       0      1      2      3    4    5\n",
      "0  0.216  0.056  0.006  0.001  0.0  0.0\n",
      "1    NaN  0.071  0.007  0.001  0.0  0.0\n",
      "2    NaN    NaN  0.005  0.001  0.0  0.0\n",
      "3    NaN    NaN    NaN  0.000  0.0  0.0\n",
      "4    NaN    NaN    NaN    NaN  0.0  0.0\n",
      "5    NaN    NaN    NaN    NaN  NaN  0.0\n"
     ]
    },
    {
     "name": "stderr",
     "output_type": "stream",
     "text": [
      "/Users/aritramajumdar/anaconda3/lib/python3.7/site-packages/ipykernel_launcher.py:5: DeprecationWarning: `np.bool` is a deprecated alias for the builtin `bool`. To silence this warning, use `bool` by itself. Doing this will not modify any behavior and is safe. If you specifically wanted the numpy scalar type, use `np.bool_` here.\n",
      "Deprecated in NumPy 1.20; for more details and guidance: https://numpy.org/devdocs/release/1.20.0-notes.html#deprecations\n",
      "  \"\"\"\n"
     ]
    }
   ],
   "source": [
    "import numpy as np\n",
    "principal = printDiagonalSums(df_cross, 5)\n",
    "print(principal)\n",
    "\n",
    "df_cross_up = df_cross.where(np.triu(np.ones(df_cross.shape)).astype(np.bool))\n",
    "print(df_cross_up)"
   ]
  },
  {
   "cell_type": "code",
   "execution_count": 15,
   "id": "c0b7b74f",
   "metadata": {},
   "outputs": [
    {
     "name": "stdout",
     "output_type": "stream",
     "text": [
      "machineball home win chance: 63.2\n",
      "machineball draw chance: 29.2\n",
      "machineball away chance: 7.199999999999999\n",
      "machineball total chance: 99.60000000000001\n"
     ]
    }
   ],
   "source": [
    "draw = principal\n",
    "\n",
    "home_team_win = df_cross.sum().sum() - df_cross_up.sum().sum()\n",
    "away_team_win = df_cross_up.sum().sum() - principal\n",
    "\n",
    "\n",
    "print(\"machineball home win chance: \" + str(np.round(home_team_win, 3)*100))\n",
    "print(\"machineball draw chance: \" + str(np.round(draw, 3)*100))\n",
    "print(\"machineball away chance: \" + str(np.round(away_team_win, 3)*100))\n",
    "\n",
    "print(\"machineball total chance: \" + str(np.round(home_team_win, 3)*100 + np.round(draw, 3)*100 + np.round(away_team_win, 3)*100))"
   ]
  },
  {
   "cell_type": "code",
   "execution_count": 16,
   "id": "98172db9",
   "metadata": {},
   "outputs": [
    {
     "name": "stdout",
     "output_type": "stream",
     "text": [
      "machineball home team win odds: 1.58\n",
      "machineball draw odds: 3.42\n",
      "machineball away team win odds: 13.89\n"
     ]
    }
   ],
   "source": [
    "draw_odds = 1/ draw\n",
    "home_team_win_odds = 1/ home_team_win\n",
    "away_team_win_odds = 1/ away_team_win\n",
    "\n",
    "\n",
    "print(\"machineball home team win odds: \" + str(np.round(home_team_win_odds, 2)))\n",
    "print(\"machineball draw odds: \" + str(np.round(draw_odds, 2)))\n",
    "print(\"machineball away team win odds: \" + str(np.round(away_team_win_odds, 2)))"
   ]
  },
  {
   "cell_type": "code",
   "execution_count": 17,
   "id": "9c4742d0",
   "metadata": {},
   "outputs": [
    {
     "name": "stdout",
     "output_type": "stream",
     "text": [
      "Bookie home win chance: 45.45\n",
      "Bookie draw chance: 29.41\n",
      "Bookie away win chance: 31.0\n",
      "Bookie total chance: 105.86\n"
     ]
    }
   ],
   "source": [
    "bookie_home_team_win_odds = 2.20\n",
    "bookie_draw = 3.40\n",
    "bookie_away_team_win_odds = 3.20\n",
    "\n",
    "Bookie_home_win = 1/ bookie_home_team_win_odds\n",
    "Bookie_draw = 1/ bookie_draw\n",
    "Bookie_away_win = 1/ bookie_away_team_win_odds\n",
    "\n",
    "print(\"Bookie home win chance: \" + str(np.round(Bookie_home_win * 100, 2)))\n",
    "print(\"Bookie draw chance: \" + str(np.round(Bookie_draw * 100, 2)))\n",
    "print(\"Bookie away win chance: \" +str(np.round(Bookie_away_win * 100)))\n",
    "print(\"Bookie total chance: \" + str(np.round(Bookie_home_win * 100, 2) + np.round(Bookie_draw * 100, 2) + np.round(Bookie_away_win * 100)))"
   ]
  },
  {
   "cell_type": "code",
   "execution_count": null,
   "id": "efd8dd46",
   "metadata": {},
   "outputs": [],
   "source": []
  }
 ],
 "metadata": {
  "kernelspec": {
   "display_name": "Python 3",
   "language": "python",
   "name": "python3"
  },
  "language_info": {
   "codemirror_mode": {
    "name": "ipython",
    "version": 3
   },
   "file_extension": ".py",
   "mimetype": "text/x-python",
   "name": "python",
   "nbconvert_exporter": "python",
   "pygments_lexer": "ipython3",
   "version": "3.7.10"
  }
 },
 "nbformat": 4,
 "nbformat_minor": 5
}
